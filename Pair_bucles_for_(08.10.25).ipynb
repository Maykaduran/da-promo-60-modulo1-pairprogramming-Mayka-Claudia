{
 "cells": [
  {
   "cell_type": "markdown",
   "id": "3ae5ed31",
   "metadata": {},
   "source": [
    "Pair Ejercicios - Modulo 1 - Leccion 5 - Bucles for\n",
    "\n",
    "## **Ejercicios bucles for**"
   ]
  },
  {
   "cell_type": "markdown",
   "id": "32c85a10",
   "metadata": {},
   "source": [
    "1. **Imprimir los números del 1 al 5 utilizando un bucle `for`**  \n",
    "   *Descripción:* Utiliza un bucle `for` para imprimir los números del 1 al 5 (incluido) en orden ascendente."
   ]
  },
  {
   "cell_type": "code",
   "execution_count": 1,
   "id": "0cf7cb43",
   "metadata": {},
   "outputs": [
    {
     "name": "stdout",
     "output_type": "stream",
     "text": [
      "1\n",
      "2\n",
      "3\n",
      "4\n",
      "5\n"
     ]
    }
   ],
   "source": [
    "for x in range(1,6):\n",
    "    print(x)\n"
   ]
  },
  {
   "cell_type": "markdown",
   "id": "ac7c98fd",
   "metadata": {},
   "source": [
    "2. **Calcular la suma de los primeros 10 números naturales utilizando un bucle `for`**  \n",
    "   *Descripción:* Utiliza un bucle `for` para calcular la suma de los primeros 10 números naturales (1 + 2 + 3 + ... + 10)."
   ]
  },
  {
   "cell_type": "code",
   "execution_count": null,
   "id": "78a4785d",
   "metadata": {},
   "outputs": [
    {
     "name": "stdout",
     "output_type": "stream",
     "text": [
      "55\n"
     ]
    }
   ],
   "source": [
    "suma = 0\n",
    "\n",
    "for num in range(1,11):\n",
    "    suma = num + suma\n",
    "\n",
    "print(suma)"
   ]
  },
  {
   "cell_type": "markdown",
   "id": "67d82b04",
   "metadata": {},
   "source": [
    "3. **Calcular el producto de los elementos de una lista**  \n",
    "   *Descripción:* Dada una lista de números, utiliza un bucle `for` para calcular el producto de todos los elementos."
   ]
  },
  {
   "cell_type": "code",
   "execution_count": null,
   "id": "bc262122",
   "metadata": {},
   "outputs": [
    {
     "ename": "SyntaxError",
     "evalue": "invalid syntax. Perhaps you forgot a comma? (237000269.py, line 6)",
     "output_type": "error",
     "traceback": [
      "  \u001b[36mCell\u001b[39m\u001b[36m \u001b[39m\u001b[32mIn[10]\u001b[39m\u001b[32m, line 6\u001b[39m\n\u001b[31m    \u001b[39m\u001b[31msum_producto = (num_1*num[])\u001b[39m\n                    ^\n\u001b[31mSyntaxError\u001b[39m\u001b[31m:\u001b[39m invalid syntax. Perhaps you forgot a comma?\n"
     ]
    }
   ],
   "source": [
    "numeros_lista = [1,2,3,4,5]   # TBD\n",
    "\n",
    "sum_producto = 0\n",
    "\n",
    "for num_1 in numeros_lista:\n",
    "    producto = (num_1*num)\n",
    "\n",
    "\n",
    "print(producto)"
   ]
  },
  {
   "cell_type": "markdown",
   "id": "4b3e808e",
   "metadata": {},
   "source": [
    "4. **Imprimir los caracteres de una cadena de texto**  \n",
    "   *Descripción:* Dada una cadena de texto, utiliza un bucle `for` para imprimir cada carácter en una línea separada."
   ]
  },
  {
   "cell_type": "code",
   "execution_count": 14,
   "id": "fcfec42e",
   "metadata": {},
   "outputs": [
    {
     "name": "stdout",
     "output_type": "stream",
     "text": [
      "Lo\n",
      "tenemos\n",
      "dominado\n",
      "o\n",
      "no\n"
     ]
    }
   ],
   "source": [
    "cadena_texto = \"Lo tenemos dominado o no\"\n",
    "cadena_texto.split()\n",
    "\n",
    "for palabras in cadena_texto.split():\n",
    "    print(palabras)\n"
   ]
  },
  {
   "cell_type": "markdown",
   "id": "b6428322",
   "metadata": {},
   "source": [
    "5. **Imprimir los números pares del 1 al 100 utilizando un bucle `for`**  \n",
    "   *Descripción:* Utiliza un bucle `for` para imprimir los números pares del 1 al 100 en orden ascendente."
   ]
  },
  {
   "cell_type": "code",
   "execution_count": 19,
   "id": "19842eab",
   "metadata": {},
   "outputs": [
    {
     "name": "stdout",
     "output_type": "stream",
     "text": [
      "[2, 4, 6, 8, 10, 12, 14, 16, 18, 20, 22, 24, 26, 28, 30, 32, 34, 36, 38, 40, 42, 44, 46, 48, 50, 52, 54, 56, 58, 60, 62, 64, 66, 68, 70, 72, 74, 76, 78, 80, 82, 84, 86, 88, 90, 92, 94, 96, 98, 100]\n"
     ]
    }
   ],
   "source": [
    "numeros_totales = range(1,101)\n",
    "numeros_pares = []\n",
    "\n",
    "for num_par in numeros_totales:\n",
    "    if num_par % 2 == 0:\n",
    "        numeros_pares.append(num_par)\n",
    "print(numeros_pares)\n",
    "        "
   ]
  },
  {
   "cell_type": "markdown",
   "id": "cf0cf661",
   "metadata": {},
   "source": [
    "6. **Imprimir los números primos del 1 al 50 utilizando un bucle `for`**  \n",
    "   *Descripción:* Utiliza un bucle `for` para imprimir los números primos del 1 al 50 en orden ascendente.  \n",
    "   *NOTA:* Según la Wikipedia, un número primo es un número natural mayor que 1 que no tiene divisores positivos más que 1 y él mismo."
   ]
  },
  {
   "cell_type": "code",
   "execution_count": null,
   "id": "928cbd54",
   "metadata": {},
   "outputs": [
    {
     "name": "stdout",
     "output_type": "stream",
     "text": [
      "[1, 2, 3, 4, 5, 6, 7, 8, 9, 10, 11, 12, 13, 14, 15, 16, 17, 18, 19, 20, 21, 22, 23, 24, 25, 26, 27, 28, 29, 30, 31, 32, 33, 34, 35, 36, 37, 38, 39, 40, 41, 42, 43, 44, 45, 46, 47, 48, 49, 50]\n"
     ]
    }
   ],
   "source": [
    "numeros_50 = range(1,51)  #PAUSA - mas tarde\n",
    "\n",
    "numeros_primos = []\n",
    "\n",
    "for primos in numeros_50:\n",
    "    if primos % primos == 0 and primos % 1 == primos:\n",
    "        numeros_primos.append(primos)\n",
    "print(numeros_primos)"
   ]
  },
  {
   "cell_type": "markdown",
   "id": "503f577f",
   "metadata": {},
   "source": [
    "7. **Calcular el factorial de un número utilizando un bucle `for`**  \n",
    "   *Descripción:* Dado un número entero positivo, calcula su factorial utilizando un bucle `for`."
   ]
  },
  {
   "cell_type": "markdown",
   "id": "9b1b8240",
   "metadata": {},
   "source": [
    "8. **Juego de adivinar palabras utilizando un bucle `for`**  \n",
    "   *Descripción:* Crea un juego en el que el jugador debe adivinar una palabra secreta.  \n",
    "   El jugador tiene un número limitado de intentos y se le proporcionan pistas después de cada intento.  \n",
    "   Utiliza un bucle `for` para controlar los intentos del jugador."
   ]
  },
  {
   "cell_type": "code",
   "execution_count": 35,
   "id": "65b5e78d",
   "metadata": {},
   "outputs": [
    {
     "name": "stdout",
     "output_type": "stream",
     "text": [
      "La palabra es un vegetal, intentalo de nuevo\n",
      "Te quedan 2\n",
      "Nope, es redonda, intentalo de nuevo!\n",
      "Te quedan 1\n",
      "Has perdido.\n"
     ]
    }
   ],
   "source": [
    "palabra_secreta = \"patata\"\n",
    "\n",
    "intentos = 3\n",
    "\n",
    "for palabra in palabra_secreta:\n",
    "    adivinanza = input(\"Ingresa una palabra:\")\n",
    "    if adivinanza == palabra_secreta:\n",
    "        print(\"Lo has adivinado!\")\n",
    "        break\n",
    "    \n",
    "    else:\n",
    "        \n",
    "        if intentos == 3:\n",
    "            print(\"La palabra es un vegetal, intentalo de nuevo\")\n",
    "            intentos -= 1\n",
    "            print(\"Te quedan\", intentos)\n",
    "        elif intentos == 2:\n",
    "            print(\"Nope, es redonda, intentalo de nuevo!\")\n",
    "            intentos -= 1\n",
    "            print(\"Te quedan\", intentos)\n",
    "        else:\n",
    "            print(\"Has perdido.\")\n",
    "            break"
   ]
  },
  {
   "cell_type": "markdown",
   "id": "6717f91d",
   "metadata": {},
   "source": [
    "## **Ejercicios _list comprehension_**"
   ]
  },
  {
   "cell_type": "markdown",
   "id": "7b0e3915",
   "metadata": {},
   "source": [
    "1. **Generar una lista de los números pares del 1 al 20.**  \n",
    "   *Descripción:* Utiliza *list comprehension* para generar una lista que contenga todos los números pares en el rango del 1 al 20."
   ]
  },
  {
   "cell_type": "markdown",
   "id": "105ac47b",
   "metadata": {},
   "source": [
    "2. **Obtener una lista de las vocales en una cadena de texto.**  \n",
    "   *Descripción:* Utiliza *list comprehension* para crear una lista que contenga todas las vocales presentes en una cadena de texto (sin repetición)."
   ]
  },
  {
   "cell_type": "markdown",
   "id": "8bac3bdc",
   "metadata": {},
   "source": [
    "3. **Filtrar los números positivos de una lista y calcular su cuadrado.**  \n",
    "   *Descripción:* Utiliza *list comprehension* para filtrar los números positivos de una lista y calcular el cuadrado de cada uno."
   ]
  },
  {
   "cell_type": "markdown",
   "id": "5bfe91e5",
   "metadata": {},
   "source": [
    "## **Ejercicios try ... except**"
   ]
  },
  {
   "cell_type": "markdown",
   "id": "3719dc7a",
   "metadata": {},
   "source": [
    "1. **Realizar una búsqueda en una lista y capturar una excepción en caso de valor no encontrado.**  \n",
    "   *Descripción:* Solicita al usuario una lista de nombres y un nombre para buscar en la lista.  \n",
    "   Intenta encontrar el nombre en la lista y utiliza las sentencias `try` y `except` para capturar la excepción en caso de que el nombre no sea encontrado."
   ]
  },
  {
   "cell_type": "code",
   "execution_count": null,
   "id": "8d702e6f",
   "metadata": {},
   "outputs": [],
   "source": []
  }
 ],
 "metadata": {
  "kernelspec": {
   "display_name": "Python 3",
   "language": "python",
   "name": "python3"
  },
  "language_info": {
   "codemirror_mode": {
    "name": "ipython",
    "version": 3
   },
   "file_extension": ".py",
   "mimetype": "text/x-python",
   "name": "python",
   "nbconvert_exporter": "python",
   "pygments_lexer": "ipython3",
   "version": "3.13.7"
  }
 },
 "nbformat": 4,
 "nbformat_minor": 5
}
