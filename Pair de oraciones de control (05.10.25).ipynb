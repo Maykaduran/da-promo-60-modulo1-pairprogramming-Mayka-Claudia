{
 "cells": [
  {
   "cell_type": "markdown",
   "id": "6e7b7b6b",
   "metadata": {},
   "source": [
    "# Ejercicios if-else"
   ]
  },
  {
   "cell_type": "markdown",
   "id": "4cb307b8",
   "metadata": {},
   "source": [
    "1. Verificar si un número es positivo, negativo o cero\n",
    "\n",
    "Descripción: Dado un número, verifica si es positivo, negativo o cero."
   ]
  },
  {
   "cell_type": "code",
   "execution_count": 4,
   "id": "895d1ca2",
   "metadata": {},
   "outputs": [
    {
     "name": "stdout",
     "output_type": "stream",
     "text": [
      "Negativo\n"
     ]
    }
   ],
   "source": [
    "numero = int(input(\"¿Qué número eliges?\"))\n",
    "\n",
    "if numero == 0:\n",
    "    print(\"Cero\")\n",
    "elif numero > 0:\n",
    "    print(\"Positivo\")\n",
    "else:\n",
    "    print(\"Negativo\")"
   ]
  },
  {
   "cell_type": "markdown",
   "id": "2999f08a",
   "metadata": {},
   "source": [
    "2. Verificar si un número es par o impar\n",
    "\n",
    "Descripción: Dado un número, verifica si es par o impar."
   ]
  },
  {
   "cell_type": "code",
   "execution_count": 7,
   "id": "b5164d63",
   "metadata": {},
   "outputs": [
    {
     "name": "stdout",
     "output_type": "stream",
     "text": [
      "El número es par\n"
     ]
    }
   ],
   "source": [
    "numero2 = int(input(\"¿Qué número eliges?\"))\n",
    "\n",
    "if numero % 2 == 0:\n",
    "    print(\"El número es par\")\n",
    "else:\n",
    "    print(\"El número es impar\")"
   ]
  },
  {
   "cell_type": "markdown",
   "id": "0bf93263",
   "metadata": {},
   "source": [
    "3. Verificar si un estudiante aprobado o suspendido un examen\n",
    "\n",
    "Descripción: Dada la calificación de un estudiante en un examen, verifica si aprobada o suspendió (si la calificación es mayor o igual a 60 se considera aprobada)."
   ]
  },
  {
   "cell_type": "code",
   "execution_count": 17,
   "id": "565a2818",
   "metadata": {},
   "outputs": [
    {
     "name": "stdout",
     "output_type": "stream",
     "text": [
      "Aprobado\n"
     ]
    }
   ],
   "source": [
    "calificacion = int(input(\"¿Calificacion de alumno?\"))\n",
    "\n",
    "if calificacion >= 60:\n",
    "    print(\"Aprobado\")\n",
    "else: \n",
    "    print(\"Suspendido\")"
   ]
  },
  {
   "cell_type": "markdown",
   "id": "a1ba9ab0",
   "metadata": {},
   "source": [
    "4. Calcular el máximo entre dos números\n",
    "\n",
    "Descripción: Dados dos números, encuentra el máximo entre ellos."
   ]
  },
  {
   "cell_type": "code",
   "execution_count": 22,
   "id": "7c0ed351",
   "metadata": {},
   "outputs": [
    {
     "name": "stdout",
     "output_type": "stream",
     "text": [
      "El segundo numero es mayor\n"
     ]
    }
   ],
   "source": [
    "numero3 = int(input(\"¿Primer numero?\"))\n",
    "numero4 = int(input(\"¿Segundo numero?\"))\n",
    "\n",
    "if numero3 > numero4:\n",
    "    print(\"El primer numero es mayor\")\n",
    "else:\n",
    "    print(\"El segundo numero es mayor\")"
   ]
  },
  {
   "cell_type": "markdown",
   "id": "2720f267",
   "metadata": {},
   "source": [
    "5. Verificar si una letra es una vocal o una consonante\n",
    "\n",
    "Descripción: Dada una letra, verifica si es una vocal o una consonante."
   ]
  },
  {
   "cell_type": "code",
   "execution_count": 30,
   "id": "3a9dea62",
   "metadata": {},
   "outputs": [
    {
     "name": "stdout",
     "output_type": "stream",
     "text": [
      "La letra es una consonante\n"
     ]
    }
   ],
   "source": [
    "letra = input(\"¿Elige una letra?\")\n",
    "\n",
    "if letra in (\"aeiou\"):\n",
    "    print(\"La letra es una vocal\")\n",
    "else:\n",
    "    print(\"La letra es una consonante\")"
   ]
  },
  {
   "cell_type": "markdown",
   "id": "14e6a702",
   "metadata": {},
   "source": [
    "6. Calcular el descuento en una compra según el monto total\n",
    "\n",
    "Descripción: Dado el monto total de una compra, calcula el descuento aplicado según las siguientes condiciones: si el monto es mayor o igual a $100, aplica un descuento del 10%; De lo contrario, no se aplica ningún descuento."
   ]
  },
  {
   "cell_type": "code",
   "execution_count": 36,
   "id": "78254183",
   "metadata": {},
   "outputs": [
    {
     "name": "stdout",
     "output_type": "stream",
     "text": [
      "El descuento será de: $ 10.0\n"
     ]
    }
   ],
   "source": [
    "total_compra = int(input(\"¿Cual es el total de la compra?\"))\n",
    "\n",
    "if total_compra >= 100:\n",
    "    print(\"El descuento será de:\", \"$\", total_compra * 0.1,)\n",
    "else: \n",
    "    print(\"No tiene descuento\")"
   ]
  },
  {
   "cell_type": "markdown",
   "id": "be1b84f4",
   "metadata": {},
   "source": [
    "7. Verificar si un año es bisiesto o no\n",
    "\n",
    "Descripción: Dado un año, verifica si es bisiesto o no (un año es bisiesto si es divisible entre 4, excepto aquellos divisibles entre 100 pero no entre 400)."
   ]
  },
  {
   "cell_type": "code",
   "execution_count": 44,
   "id": "34822ebc",
   "metadata": {},
   "outputs": [],
   "source": [
    "bisiesto = int(input(\"¿elige un año?\"))\n",
    "\n",
    "if bisiesto % 4 == 0:\n",
    "    \n",
    "    if bisiesto % 100 == 0:\n",
    "        print(\"El año es bisiesto\")\n",
    "    if bisiesto % 400 == 0:\n",
    "        print(\"El año es bisiesto\")\n",
    "     \n",
    "else:\n",
    "    print(\"El año no es bisiesto\")"
   ]
  },
  {
   "cell_type": "markdown",
   "id": "23f378af",
   "metadata": {},
   "source": [
    "8. Asignar una categoría a una edad\n",
    "\n",
    "Descripción: Dada una edad, asigna una categoría según las siguientes condiciones: si la edad es menor de 18, la categoría es \"Menor de edad\"; si la edad está entre 18 y 64 (incluidos ambos), la categoría es \"Adulto\"; De lo contrario, la categoría es \"Adulto mayor\"."
   ]
  },
  {
   "cell_type": "code",
   "execution_count": 48,
   "id": "88341759",
   "metadata": {},
   "outputs": [
    {
     "name": "stdout",
     "output_type": "stream",
     "text": [
      "Menor de edad\n"
     ]
    }
   ],
   "source": [
    "edad = int(input(\"¿Selecciona una edad?\"))\n",
    "\n",
    "if edad < 18:\n",
    "    print(\"Menor de edad\")\n",
    "elif edad >= 18 and edad <= 64:\n",
    "    print(\"Adulto\")\n",
    "else:\n",
    "    print(\"Adulto mayor\")"
   ]
  },
  {
   "cell_type": "markdown",
   "id": "c6768506",
   "metadata": {},
   "source": [
    "9. Verificar si tres números forman un triángulo rectángulo\n",
    "\n",
    "Descripción: Dados tres números, verifica si forman un triángulo rectángulo (si se cumple el teorema de Pitágoras)."
   ]
  },
  {
   "cell_type": "code",
   "execution_count": 51,
   "id": "fbfcd6ab",
   "metadata": {},
   "outputs": [
    {
     "name": "stdout",
     "output_type": "stream",
     "text": [
      "No es un triangulo rectangulo\n"
     ]
    }
   ],
   "source": [
    "# a² + b² = c²\n",
    "\n",
    "cateto1 = int(input(\"primer cateto\"))\n",
    "cateto2 = int(input(\"segundo cateto\"))\n",
    "hipotenusa = int(input(\"hipotenusa\"))\n",
    "\n",
    "if cateto1 **2 + cateto2 **2 == hipotenusa **2:\n",
    "    print(\"Es un triangulo rectangulo\")\n",
    "else:\n",
    "    print(\"No es un triangulo rectangulo\")"
   ]
  },
  {
   "cell_type": "markdown",
   "id": "33ba8b0c",
   "metadata": {},
   "source": [
    "10. Asignar una calificación a una puntuación\n",
    "\n",
    "Descripción: Dada una puntuación, asigna una calificación según las siguientes condiciones: si la puntuación es mayor o igual a 90, la calificación es \"A\"; si es mayor o igual a 80, la calificación es \"B\"; si es mayor o igual a 70, la calificación es \"C\"; si es mayor o igual a 60, la calificación es \"D\"; De lo contrario, la calificación es \"F\"."
   ]
  },
  {
   "cell_type": "markdown",
   "id": "dfcb1464",
   "metadata": {},
   "source": [
    "11. Calcular el índice de masa corporal (IMC) y categorizarlo\n",
    "\n",
    "Descripción: Dados el peso (en kg) y la altura (en metros) de una persona, calcula su IMC y categorízalo según las siguientes condiciones: si el IMC es menor a 18.5, es \"Bajo peso\"; si está entre 18,5 y 24,9 (inclusive), es \"Peso normal\"; si está entre 25 y 29,9 (inclusive), es \"Sobrepeso\"; de lo contrario, es \"Obesidad\"."
   ]
  },
  {
   "cell_type": "markdown",
   "id": "e538971f",
   "metadata": {},
   "source": [
    "12. Calcular el mayor de tres números\n",
    "\n",
    "Descripción: Dados tres números, encuentra el mayor entre ellos."
   ]
  },
  {
   "cell_type": "markdown",
   "id": "615f1e66",
   "metadata": {},
   "source": [
    "13. BONUS sentencias de control: Verificar la validez de una fecha\n",
    "\n",
    "Descripción: Dados el día, el mes y el año de una fecha, verifica si la fecha es válida."
   ]
  },
  {
   "cell_type": "markdown",
   "id": "cd065fce",
   "metadata": {},
   "source": [
    "# Ejercicios mientras"
   ]
  },
  {
   "cell_type": "markdown",
   "id": "d1cf2555",
   "metadata": {},
   "source": [
    "1. Calcular la suma de los primeros 10 números naturales utilizando un buclewhile\n",
    "\n",
    "Descripción: Utiliza un bucle whilepara calcular la suma de los primeros 10 números naturales (1 + 2 + 3 + ... + 10)."
   ]
  },
  {
   "cell_type": "markdown",
   "id": "dbac8771",
   "metadata": {},
   "source": [
    "2. Juego de adivinanza utilizando un buclewhile\n",
    "\n",
    "Descripción: Crea un juego de adivinanza en el que el jugador tiene que adivinar un número secreto (tendrá que ser entre el 0 y el 10). Utiliza un bucle whilepara permitir múltiples intentos hasta que el jugador adivine correctamente."
   ]
  }
 ],
 "metadata": {
  "kernelspec": {
   "display_name": "base",
   "language": "python",
   "name": "python3"
  },
  "language_info": {
   "codemirror_mode": {
    "name": "ipython",
    "version": 3
   },
   "file_extension": ".py",
   "mimetype": "text/x-python",
   "name": "python",
   "nbconvert_exporter": "python",
   "pygments_lexer": "ipython3",
   "version": "3.13.5"
  }
 },
 "nbformat": 4,
 "nbformat_minor": 5
}
