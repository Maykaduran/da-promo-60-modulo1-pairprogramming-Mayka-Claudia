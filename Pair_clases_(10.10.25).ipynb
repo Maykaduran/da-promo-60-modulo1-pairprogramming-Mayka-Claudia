{
 "cells": [
  {
   "cell_type": "markdown",
   "id": "6ecc604b",
   "metadata": {},
   "source": [
    "Pair Programming - Modulo 1 - Leccion 7 - Clases"
   ]
  },
  {
   "cell_type": "markdown",
   "id": "7c76a931",
   "metadata": {},
   "source": [
    "Crea una clase llamada Vehiculo que representa un vehículo genérico. Esta clase tiene la capacidad de realizar acciones relacionadas con el vehículo, como encenderlo, apagarlo, acelerar, frenar y detenerlo gradualmente. Cada método en la clase tiene una descripción específica de su función. A continuación, se detallan los aspectos clave de esta clase: https://books.adalab.es/materiales-data-analytics-full-time/modulo-1-descubre-el-poder-de-python/modulo-1/modulo-1-leccion-07-clases/modulo-1-leccion-07-ejercicios"
   ]
  },
  {
   "cell_type": "code",
   "execution_count": 1,
   "id": "fc96213b",
   "metadata": {},
   "outputs": [],
   "source": [
    "class Vehiculo:\n",
    "    def __init__(self, marca, modelo, ano):\n",
    "        self.marca = marca\n",
    "        self.modelo = modelo\n",
    "        self.ano = ano\n",
    "        self.velocidad_actual = 0\n",
    "        self.encendido = False\n",
    "\n",
    "    def informacion(self):\n",
    "        print(f\"Vehiculo de la marca {self.marca}, modelo {self.modelo}, y ano {self.ano} en la clase Vehiculo\")\n",
    "      \n",
    "    def encender(self):\n",
    "        if self.encendido == False:\n",
    "            self.encendido = True\n",
    "            print(\"El coche se ha encendido correctamente.\")\n",
    "        else:\n",
    "            print(\"El coche ya esta encendido.\")\n",
    "            \n",
    "    def apagar(self):\n",
    "        if self.encendido == True:   # esta encendido (puede estar en moviemiento o no)\n",
    "            self.velocidad_actual == 0 # detener el coche?\n",
    "            self.encendido = False   # apagarlo\n",
    "            print(\"El vehiculo se ha apagado correctamente.\")\n",
    "        else:\n",
    "            print(\"El vehicula ya esta apagado.\")\n",
    "    \n",
    "    def acelerar(self, velocidad):\n",
    "        if self.encendido == True and self.velocidad_atual >= 0:\n",
    "            self.velocidad_actual += velocidad\n",
    "            print(f\"El vehiculo va a velocidad: {self.velocidad_actual}\")\n",
    "        else:\n",
    "            print(f\"El vehiculo esta apagado, no puede acelerar.\")\n",
    "\n",
    "        \n",
    "    def frenar(self, velocidad):\n",
    "        pass\n",
    "    def detener(self):\n",
    "        pass"
   ]
  },
  {
   "cell_type": "code",
   "execution_count": 2,
   "id": "4e2f25ef",
   "metadata": {},
   "outputs": [],
   "source": [
    "vehiculo_mayka = Vehiculo(\"Peugeot\", \"3008\", \"2024\")\n",
    "vehiculo_claudia = Vehiculo(\"Volkswagon\", \"Golf\", \"2016\")"
   ]
  },
  {
   "cell_type": "code",
   "execution_count": 3,
   "id": "cf66af2b",
   "metadata": {},
   "outputs": [
    {
     "name": "stdout",
     "output_type": "stream",
     "text": [
      "Vehiculo de la marca Peugeot, modelo 3008, y ano 2024 en la clase Vehiculo\n",
      "Vehiculo de la marca Volkswagon, modelo Golf, y ano 2016 en la clase Vehiculo\n"
     ]
    }
   ],
   "source": [
    "vehiculo_mayka.informacion()\n",
    "vehiculo_claudia.informacion()"
   ]
  },
  {
   "cell_type": "code",
   "execution_count": 4,
   "id": "86a516e9",
   "metadata": {},
   "outputs": [
    {
     "data": {
      "text/plain": [
       "{'marca': 'Peugeot',\n",
       " 'modelo': '3008',\n",
       " 'ano': '2024',\n",
       " 'velocidad_actual': 0,\n",
       " 'encendido': False}"
      ]
     },
     "execution_count": 4,
     "metadata": {},
     "output_type": "execute_result"
    }
   ],
   "source": [
    "vehiculo_mayka.__dict__"
   ]
  },
  {
   "cell_type": "code",
   "execution_count": 5,
   "id": "1081f7d6",
   "metadata": {},
   "outputs": [
    {
     "name": "stdout",
     "output_type": "stream",
     "text": [
      "El coche se ha encendido correctamente.\n"
     ]
    }
   ],
   "source": [
    "vehiculo_mayka.encender()"
   ]
  },
  {
   "cell_type": "code",
   "execution_count": 6,
   "id": "ae615672",
   "metadata": {},
   "outputs": [
    {
     "name": "stdout",
     "output_type": "stream",
     "text": [
      "El coche se ha encendido correctamente.\n"
     ]
    }
   ],
   "source": [
    "vehiculo_claudia.encender()"
   ]
  },
  {
   "cell_type": "code",
   "execution_count": 7,
   "id": "f0eb57b2",
   "metadata": {},
   "outputs": [
    {
     "data": {
      "text/plain": [
       "{'marca': 'Peugeot',\n",
       " 'modelo': '3008',\n",
       " 'ano': '2024',\n",
       " 'velocidad_actual': 0,\n",
       " 'encendido': True}"
      ]
     },
     "execution_count": 7,
     "metadata": {},
     "output_type": "execute_result"
    }
   ],
   "source": [
    "vehiculo_mayka.__dict__"
   ]
  },
  {
   "cell_type": "code",
   "execution_count": 8,
   "id": "540e63bb",
   "metadata": {},
   "outputs": [
    {
     "name": "stdout",
     "output_type": "stream",
     "text": [
      "El coche ya esta encendido.\n"
     ]
    }
   ],
   "source": [
    "vehiculo_claudia.encender()"
   ]
  },
  {
   "cell_type": "code",
   "execution_count": 9,
   "id": "bc232ba1",
   "metadata": {},
   "outputs": [
    {
     "name": "stdout",
     "output_type": "stream",
     "text": [
      "El vehiculo se ha apagado correctamente.\n"
     ]
    }
   ],
   "source": [
    "vehiculo_claudia.apagar()"
   ]
  },
  {
   "cell_type": "code",
   "execution_count": 10,
   "id": "ff716192",
   "metadata": {},
   "outputs": [
    {
     "data": {
      "text/plain": [
       "{'marca': 'Volkswagon',\n",
       " 'modelo': 'Golf',\n",
       " 'ano': '2016',\n",
       " 'velocidad_actual': 0,\n",
       " 'encendido': False}"
      ]
     },
     "execution_count": 10,
     "metadata": {},
     "output_type": "execute_result"
    }
   ],
   "source": [
    "vehiculo_claudia.__dict__"
   ]
  },
  {
   "cell_type": "code",
   "execution_count": 11,
   "id": "1df476cd",
   "metadata": {},
   "outputs": [
    {
     "name": "stdout",
     "output_type": "stream",
     "text": [
      "0\n"
     ]
    }
   ],
   "source": [
    "print(vehiculo_mayka.velocidad_actual)"
   ]
  },
  {
   "cell_type": "code",
   "execution_count": 12,
   "id": "03ade8b0",
   "metadata": {},
   "outputs": [
    {
     "data": {
      "text/plain": [
       "{'marca': 'Peugeot',\n",
       " 'modelo': '3008',\n",
       " 'ano': '2024',\n",
       " 'velocidad_actual': 0,\n",
       " 'encendido': True}"
      ]
     },
     "execution_count": 12,
     "metadata": {},
     "output_type": "execute_result"
    }
   ],
   "source": [
    "vehiculo_mayka.__dict__"
   ]
  },
  {
   "cell_type": "code",
   "execution_count": 13,
   "id": "af622462",
   "metadata": {},
   "outputs": [
    {
     "ename": "AttributeError",
     "evalue": "'Vehiculo' object has no attribute 'velocidad_atual'",
     "output_type": "error",
     "traceback": [
      "\u001b[31m---------------------------------------------------------------------------\u001b[39m",
      "\u001b[31mAttributeError\u001b[39m                            Traceback (most recent call last)",
      "\u001b[36mCell\u001b[39m\u001b[36m \u001b[39m\u001b[32mIn[13]\u001b[39m\u001b[32m, line 1\u001b[39m\n\u001b[32m----> \u001b[39m\u001b[32m1\u001b[39m \u001b[43mvehiculo_mayka\u001b[49m\u001b[43m.\u001b[49m\u001b[43macelerar\u001b[49m\u001b[43m(\u001b[49m\u001b[32;43m50\u001b[39;49m\u001b[43m)\u001b[49m\n",
      "\u001b[36mCell\u001b[39m\u001b[36m \u001b[39m\u001b[32mIn[1]\u001b[39m\u001b[32m, line 28\u001b[39m, in \u001b[36mVehiculo.acelerar\u001b[39m\u001b[34m(self, velocidad)\u001b[39m\n\u001b[32m     27\u001b[39m \u001b[38;5;28;01mdef\u001b[39;00m\u001b[38;5;250m \u001b[39m\u001b[34macelerar\u001b[39m(\u001b[38;5;28mself\u001b[39m, velocidad):\n\u001b[32m---> \u001b[39m\u001b[32m28\u001b[39m     \u001b[38;5;28;01mif\u001b[39;00m \u001b[38;5;28mself\u001b[39m.encendido == \u001b[38;5;28;01mTrue\u001b[39;00m \u001b[38;5;129;01mand\u001b[39;00m \u001b[38;5;28;43mself\u001b[39;49m\u001b[43m.\u001b[49m\u001b[43mvelocidad_atual\u001b[49m >= \u001b[32m0\u001b[39m:\n\u001b[32m     29\u001b[39m         \u001b[38;5;28mself\u001b[39m.velocidad_actual += velocidad\n\u001b[32m     30\u001b[39m         \u001b[38;5;28mprint\u001b[39m(\u001b[33mf\u001b[39m\u001b[33m\"\u001b[39m\u001b[33mEl vehiculo va a velocidad: \u001b[39m\u001b[38;5;132;01m{\u001b[39;00m\u001b[38;5;28mself\u001b[39m.velocidad_actual\u001b[38;5;132;01m}\u001b[39;00m\u001b[33m\"\u001b[39m)\n",
      "\u001b[31mAttributeError\u001b[39m: 'Vehiculo' object has no attribute 'velocidad_atual'"
     ]
    }
   ],
   "source": [
    "vehiculo_mayka.acelerar(50)"
   ]
  },
  {
   "cell_type": "code",
   "execution_count": null,
   "id": "73e94a9f",
   "metadata": {},
   "outputs": [],
   "source": []
  }
 ],
 "metadata": {
  "kernelspec": {
   "display_name": "Python 3",
   "language": "python",
   "name": "python3"
  },
  "language_info": {
   "codemirror_mode": {
    "name": "ipython",
    "version": 3
   },
   "file_extension": ".py",
   "mimetype": "text/x-python",
   "name": "python",
   "nbconvert_exporter": "python",
   "pygments_lexer": "ipython3",
   "version": "3.13.7"
  }
 },
 "nbformat": 4,
 "nbformat_minor": 5
}
